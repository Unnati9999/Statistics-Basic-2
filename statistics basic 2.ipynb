{
 "cells": [
  {
   "cell_type": "markdown",
   "id": "4ab1fd07-bf55-4230-922e-f67076c00006",
   "metadata": {},
   "source": [
    "Q1. What are the three measures of central tendency?"
   ]
  },
  {
   "cell_type": "markdown",
   "id": "219d1d9a-e449-4c20-98a6-e2e09f12eb78",
   "metadata": {},
   "source": [
    "There are three main measures of central tendency:                                                 \n",
    "mode.                                   \n",
    "median.                                  \n",
    "mean.                                               \n"
   ]
  },
  {
   "cell_type": "code",
   "execution_count": null,
   "id": "12c446b6-a5aa-41e4-85f6-936c786670c6",
   "metadata": {},
   "outputs": [],
   "source": []
  },
  {
   "cell_type": "code",
   "execution_count": null,
   "id": "c44d4a56-b770-49e9-ab29-b547cc04b524",
   "metadata": {},
   "outputs": [],
   "source": []
  },
  {
   "cell_type": "markdown",
   "id": "1b795254-79a8-4122-9c62-4467810a0eec",
   "metadata": {},
   "source": [
    "Q2. What is the difference between the mean, median, and mode? How are they used to measure the\n",
    "central tendency of a dataset?"
   ]
  },
  {
   "cell_type": "markdown",
   "id": "53508609-3b61-4c45-9eec-382f353edf28",
   "metadata": {},
   "source": [
    "The difference between mean, median and mode are:                                                \n",
    "Mean is the average value of the given observations.                                          \n",
    "Median is the middle value of the given observations.                                       \n",
    "Mode is the most repeated value in the given observation.                                     "
   ]
  },
  {
   "cell_type": "code",
   "execution_count": null,
   "id": "627e2fc4-629d-4371-8e52-a97bd90079c9",
   "metadata": {},
   "outputs": [],
   "source": []
  },
  {
   "cell_type": "code",
   "execution_count": null,
   "id": "b3784b1a-ea8e-4cf3-9333-2e421d7c221e",
   "metadata": {},
   "outputs": [],
   "source": []
  },
  {
   "cell_type": "markdown",
   "id": "0721ad84-5715-4410-886a-51f4484adc7b",
   "metadata": {},
   "source": [
    "Q3. Measure the three measures of central tendency for the given height data:\n",
    "[178,177,176,177,178.2,178,175,179,180,175,178.9,176.2,177,172.5,178,176.5]"
   ]
  },
  {
   "cell_type": "code",
   "execution_count": 27,
   "id": "2db5ebd9-2c04-4f46-8c3e-9e647d5651ad",
   "metadata": {},
   "outputs": [
    {
     "data": {
      "text/plain": [
       "177.01875"
      ]
     },
     "execution_count": 27,
     "metadata": {},
     "output_type": "execute_result"
    }
   ],
   "source": [
    "import numpy as np\n",
    "np.mean(number)"
   ]
  },
  {
   "cell_type": "code",
   "execution_count": 28,
   "id": "f3716649-c5e1-4ba4-aa26-2778472d30ac",
   "metadata": {},
   "outputs": [
    {
     "data": {
      "text/plain": [
       "177.0"
      ]
     },
     "execution_count": 28,
     "metadata": {},
     "output_type": "execute_result"
    }
   ],
   "source": [
    "np.median(number)"
   ]
  },
  {
   "cell_type": "code",
   "execution_count": 32,
   "id": "2c07b488-17f3-41b0-984c-a668ebb1ed6d",
   "metadata": {},
   "outputs": [],
   "source": [
    "from scipy import stats"
   ]
  },
  {
   "cell_type": "code",
   "execution_count": null,
   "id": "8dee95e9-233f-4950-8ed6-fa7bc866d404",
   "metadata": {},
   "outputs": [],
   "source": [
    "stats.mode(number)"
   ]
  },
  {
   "cell_type": "code",
   "execution_count": null,
   "id": "36595022-1480-46bd-9824-eb217271cc9f",
   "metadata": {},
   "outputs": [],
   "source": []
  },
  {
   "cell_type": "code",
   "execution_count": null,
   "id": "9f5533fb-9117-4ded-8413-84c211b37377",
   "metadata": {},
   "outputs": [],
   "source": []
  },
  {
   "cell_type": "markdown",
   "id": "96d38b32-708a-4140-b52c-aee2a301dedd",
   "metadata": {},
   "source": [
    "Q4. Find the standard deviation for the given data:\n",
    "[178,177,176,177,178.2,178,175,179,180,175,178.9,176.2,177,172.5,178,176.5]"
   ]
  },
  {
   "cell_type": "code",
   "execution_count": 37,
   "id": "7c04564e-eb0f-4be6-bafa-b09328608b86",
   "metadata": {},
   "outputs": [],
   "source": [
    "number_lst=[178,177,176,177,178.2,178,175,179,180,175,178.9,176.2,177,172.5,178,176.5]"
   ]
  },
  {
   "cell_type": "code",
   "execution_count": 38,
   "id": "c4391c7b-0f06-45b6-8b55-d9d078a8ae26",
   "metadata": {},
   "outputs": [],
   "source": [
    "import numpy as np"
   ]
  },
  {
   "cell_type": "code",
   "execution_count": 41,
   "id": "7aa222e2-a65e-4042-803b-8c12faa57775",
   "metadata": {},
   "outputs": [
    {
     "data": {
      "text/plain": [
       "1.7885814036548633"
      ]
     },
     "execution_count": 41,
     "metadata": {},
     "output_type": "execute_result"
    }
   ],
   "source": [
    "#std\n",
    "np.std(number_lst)"
   ]
  },
  {
   "cell_type": "code",
   "execution_count": null,
   "id": "4a59ef19-56b0-480b-9857-e226de59faa9",
   "metadata": {},
   "outputs": [],
   "source": []
  },
  {
   "cell_type": "code",
   "execution_count": null,
   "id": "8d72d1cc-2063-448f-b9bf-f9fd2914759e",
   "metadata": {},
   "outputs": [],
   "source": []
  },
  {
   "cell_type": "markdown",
   "id": "fefe5120-4443-47d5-beb4-107f9ef1629c",
   "metadata": {},
   "source": [
    "Q5. How are measures of dispersion such as range, variance, and standard deviation used to describe\n",
    "the spread of a dataset? Provide an example."
   ]
  },
  {
   "cell_type": "code",
   "execution_count": 42,
   "id": "2400974d-7a81-4d2c-87db-57dc21e0c882",
   "metadata": {},
   "outputs": [],
   "source": [
    "ages_lst=[23,43,23,56,74,32,68,98,45,32]"
   ]
  },
  {
   "cell_type": "code",
   "execution_count": 43,
   "id": "10659246-a8f4-4feb-bfcc-dac9dc838a9e",
   "metadata": {},
   "outputs": [],
   "source": [
    "import numpy as np"
   ]
  },
  {
   "cell_type": "code",
   "execution_count": 44,
   "id": "4f7f5362-ef68-4184-95d0-8de474d38a94",
   "metadata": {},
   "outputs": [
    {
     "data": {
      "text/plain": [
       "49.4"
      ]
     },
     "execution_count": 44,
     "metadata": {},
     "output_type": "execute_result"
    }
   ],
   "source": [
    "np.mean(ages_lst)"
   ]
  },
  {
   "cell_type": "code",
   "execution_count": 45,
   "id": "38ebc0d6-c417-41b4-86a0-b53b81b68872",
   "metadata": {},
   "outputs": [
    {
     "data": {
      "text/plain": [
       "541.64"
      ]
     },
     "execution_count": 45,
     "metadata": {},
     "output_type": "execute_result"
    }
   ],
   "source": [
    "## variance\n",
    "np.var(ages_lst)"
   ]
  },
  {
   "cell_type": "code",
   "execution_count": 46,
   "id": "7c6effa8-8313-4ec6-add1-48c1dfabe682",
   "metadata": {},
   "outputs": [
    {
     "data": {
      "text/plain": [
       "23.273160507331188"
      ]
     },
     "execution_count": 46,
     "metadata": {},
     "output_type": "execute_result"
    }
   ],
   "source": [
    "#std\n",
    "np.std(ages_lst)"
   ]
  },
  {
   "cell_type": "code",
   "execution_count": null,
   "id": "f5113a36-994d-4135-8ed8-a3c58441b1ec",
   "metadata": {},
   "outputs": [],
   "source": []
  },
  {
   "cell_type": "code",
   "execution_count": null,
   "id": "04c481da-6cfc-4f2d-80d3-4cccbff5f32a",
   "metadata": {},
   "outputs": [],
   "source": []
  },
  {
   "cell_type": "markdown",
   "id": "184dae2c-4e26-40fb-8331-382ae96b3b8a",
   "metadata": {},
   "source": [
    "Q6. What is a Venn diagram?"
   ]
  },
  {
   "cell_type": "markdown",
   "id": "e889832d-a0f5-478e-8c2b-db118b5274a5",
   "metadata": {},
   "source": [
    "A Venn diagram is an illustration that uses circles to show the relationships among things or finite groups of things."
   ]
  },
  {
   "cell_type": "markdown",
   "id": "52868963-b516-4c49-b7ff-a7a1ec215761",
   "metadata": {},
   "source": [
    "A Venn diagram uses overlapping circles or other shapes to illustrate the logical relationships between two or more sets of items. Often, they serve to graphically organize things, highlighting how the items are similar and different."
   ]
  },
  {
   "cell_type": "code",
   "execution_count": null,
   "id": "cb882fa9-bf44-4f70-9c18-212f7530ef6e",
   "metadata": {},
   "outputs": [],
   "source": []
  },
  {
   "cell_type": "code",
   "execution_count": null,
   "id": "f04bb1f6-109f-4f46-8d2c-ccdcf49f831c",
   "metadata": {},
   "outputs": [],
   "source": []
  },
  {
   "cell_type": "markdown",
   "id": "2d0a4a0a-57f3-4243-bb9b-dcaabf2a3e71",
   "metadata": {},
   "source": [
    "Q7. For the two given sets A = (2,3,4,5,6,7) & B = (0,2,6,8,10). Find:                              \n",
    "(i) A B                                                \n",
    "(ii) A ⋃ B                                                    "
   ]
  },
  {
   "cell_type": "code",
   "execution_count": 50,
   "id": "3349a51b-913b-414c-9c62-2daa6f1fec7b",
   "metadata": {},
   "outputs": [
    {
     "name": "stdout",
     "output_type": "stream",
     "text": [
      "A U B: {0, 2, 4, 5, 6, 7, 8, 10}\n"
     ]
    }
   ],
   "source": [
    "A = {2, 4, 5, 6 , 7} \n",
    "B = {0, 2, 6,8,10}\n",
    "\n",
    "print(\"A U B:\", A.union(B))\n"
   ]
  },
  {
   "cell_type": "code",
   "execution_count": 51,
   "id": "a33ae525-d1a0-42a2-9c09-d260d0e79473",
   "metadata": {},
   "outputs": [
    {
     "name": "stdout",
     "output_type": "stream",
     "text": [
      "A B : {0, 2, 4, 5, 6, 7, 8, 10}\n"
     ]
    }
   ],
   "source": [
    "A = {2, 4, 5, 6 , 7} \n",
    "B = {0, 2, 6,8,10}\n",
    "\n",
    "print(\"A B :\", A.union(B))"
   ]
  },
  {
   "cell_type": "code",
   "execution_count": null,
   "id": "4f97f376-c40d-4a7a-bd1c-3ba603fc5db7",
   "metadata": {},
   "outputs": [],
   "source": []
  },
  {
   "cell_type": "code",
   "execution_count": null,
   "id": "68447a46-a746-4598-b98b-1dddeeed8c80",
   "metadata": {},
   "outputs": [],
   "source": []
  },
  {
   "cell_type": "markdown",
   "id": "c419757b-9bd1-4e72-81d5-dc661b8fc7a2",
   "metadata": {},
   "source": [
    "Q8. What do you understand about skewness in data?"
   ]
  },
  {
   "cell_type": "markdown",
   "id": "edfe1464-be11-4c55-b4cb-61adee742168",
   "metadata": {},
   "source": [
    "Skewness is a measure of the asymmetry of a distribution.                                           \n",
    "A distribution is asymmetrical when its left and right side are not mirror images.                        \n"
   ]
  },
  {
   "cell_type": "markdown",
   "id": "bff9b5ba-a099-4d7b-b235-d4f7c21013a9",
   "metadata": {},
   "source": [
    "Skewness is a measurement of the distortion of symmetrical distribution or asymmetry in a data set. Skewness is demonstrated on a bell curve when data points are not distributed symmetrically to the left and right sides of the median on a bell curve."
   ]
  },
  {
   "cell_type": "code",
   "execution_count": null,
   "id": "f4d7727a-0c1b-4d15-907a-b13cc8a20a99",
   "metadata": {},
   "outputs": [],
   "source": []
  },
  {
   "cell_type": "code",
   "execution_count": null,
   "id": "04ba12ce-d5d2-406a-a25d-b87ae41c1336",
   "metadata": {},
   "outputs": [],
   "source": []
  },
  {
   "cell_type": "markdown",
   "id": "111215b6-2470-4a5c-ae08-b3471e3dde47",
   "metadata": {},
   "source": [
    "Q9. If a data is right skewed then what will be the position of median with respect to mean?"
   ]
  },
  {
   "cell_type": "markdown",
   "id": "324ff534-31da-48cb-898b-0750d712b609",
   "metadata": {},
   "source": [
    "Greater than the median"
   ]
  },
  {
   "cell_type": "markdown",
   "id": "7d17a9fd-3663-404a-9c33-a6c285d751eb",
   "metadata": {},
   "source": [
    "Right-skewed distributions indicate that the majority of the data is located on the left side of the graph, and the mean, or average, is greater than the median. There are values in the data set that are much greater than the median, or the value where 50% of the data is either lower or higher."
   ]
  },
  {
   "cell_type": "code",
   "execution_count": null,
   "id": "730ff89c-d0f5-49b5-b346-aed9c932cb58",
   "metadata": {},
   "outputs": [],
   "source": []
  },
  {
   "cell_type": "code",
   "execution_count": null,
   "id": "274c89d0-b927-48a3-a668-bce1191c7f10",
   "metadata": {},
   "outputs": [],
   "source": []
  },
  {
   "cell_type": "markdown",
   "id": "3ea57fd2-0b9a-467d-974f-0ef68501ce14",
   "metadata": {},
   "source": [
    "Q10. Explain the difference between covariance and correlation. How are these measures used in\n",
    "statistical analysis?"
   ]
  },
  {
   "cell_type": "markdown",
   "id": "841acc30-5693-4b27-985c-e19d218ff27b",
   "metadata": {},
   "source": [
    "Covariance is an indicator of the extent to which 2 random variables are dependent on each other. A higher number denotes higher dependency. Correlation is a statistical measure that indicates how strongly two variables are related. The value of covariance lies in the range of -∞ and +∞."
   ]
  },
  {
   "cell_type": "markdown",
   "id": "b5cbf29c-bfba-46f4-97c7-1f2aa2ecc3d0",
   "metadata": {},
   "source": [
    "Put simply, both covariance and correlation measure the relationship and the dependency between two variables. Covariance indicates the direction of the linear relationship between variables while correlation measures both the strength and direction of the linear relationship between two variables."
   ]
  },
  {
   "cell_type": "code",
   "execution_count": null,
   "id": "cfaf9d32-14cf-4383-8604-7b4740c6232b",
   "metadata": {},
   "outputs": [],
   "source": []
  },
  {
   "cell_type": "code",
   "execution_count": null,
   "id": "7cfe2758-286a-481e-bceb-24cdc4a1ea86",
   "metadata": {},
   "outputs": [],
   "source": []
  },
  {
   "cell_type": "markdown",
   "id": "64964344-6539-47de-9516-1b14ebbbd9b4",
   "metadata": {},
   "source": [
    "Q11. What is the formula for calculating the sample mean? Provide an example calculation for a\n",
    "dataset."
   ]
  },
  {
   "cell_type": "markdown",
   "id": "f13c7a40-80fd-494d-9251-9da5e3513119",
   "metadata": {},
   "source": [
    "The general formula for calculating the sample mean is given by                             \n",
    "x̄ = ( Σ xi ) / n."
   ]
  },
  {
   "cell_type": "code",
   "execution_count": null,
   "id": "9a029c2c-97f3-431f-a06d-2c08c6bdfb1d",
   "metadata": {},
   "outputs": [],
   "source": []
  },
  {
   "cell_type": "code",
   "execution_count": null,
   "id": "b62fc4ad-eafc-46d9-bb32-ca738bba9177",
   "metadata": {},
   "outputs": [],
   "source": []
  },
  {
   "cell_type": "markdown",
   "id": "a6e1c22e-e49b-47fa-a527-1d97a9ab6053",
   "metadata": {},
   "source": [
    "Q12. For a normal distribution data what is the relationship between its measure of central tendency?"
   ]
  },
  {
   "cell_type": "markdown",
   "id": "aa84ec7c-6876-491f-8808-675ad6cb5dc8",
   "metadata": {},
   "source": [
    "Any normal distribution has a graph that is perfectly symmetric about a vertical line through its peak. Therefore, all measures of central tendency (most commonly, the mean, median, and mode) give the same answer: the x -value of the peak."
   ]
  },
  {
   "cell_type": "markdown",
   "id": "2982b003-465f-4f38-a309-eb0475821744",
   "metadata": {},
   "source": [
    "In a normal distribution, data is symmetrically distributed with no skew. Most values cluster around a central region, with values tapering off as they go further away from the center.                                              \n",
    "The mean, mode and median are exactly the same in a normal distribution."
   ]
  },
  {
   "cell_type": "code",
   "execution_count": null,
   "id": "41892e4b-3341-4eaf-807c-5e6261feeea9",
   "metadata": {},
   "outputs": [],
   "source": []
  },
  {
   "cell_type": "code",
   "execution_count": null,
   "id": "f822a4bd-56b1-4182-b60a-e15dc7297d65",
   "metadata": {},
   "outputs": [],
   "source": []
  },
  {
   "cell_type": "markdown",
   "id": "9508300a-0204-4869-81c7-173c37be657e",
   "metadata": {},
   "source": [
    "Q13. How is covariance different from correlation?"
   ]
  },
  {
   "cell_type": "markdown",
   "id": "a559c577-57c5-4ad1-85a3-70632bce53b9",
   "metadata": {},
   "source": [
    "Covariance indicates the direction of the linear relationship between variables while correlation measures both the strength and direction of the linear relationship between two variables. Correlation is a function of the covariance.\n"
   ]
  },
  {
   "cell_type": "markdown",
   "id": "f01d50e2-7030-4683-9ae6-4ec9e8b965c8",
   "metadata": {},
   "source": [
    "Covariance describes the extent to which one variable is related to another whereas correlation states how strongly the given two random variables are related to each other."
   ]
  },
  {
   "cell_type": "code",
   "execution_count": null,
   "id": "d860a941-aa2b-4b24-9476-9b74c694ceae",
   "metadata": {},
   "outputs": [],
   "source": []
  },
  {
   "cell_type": "code",
   "execution_count": null,
   "id": "7bc33070-1e75-49ce-a07e-60fdd0af62bd",
   "metadata": {},
   "outputs": [],
   "source": []
  },
  {
   "cell_type": "markdown",
   "id": "279b0f76-99d2-4282-957e-8ea5a184c9b0",
   "metadata": {},
   "source": [
    "Q14. How do outliers affect measures of central tendency and dispersion? Provide an example."
   ]
  },
  {
   "cell_type": "markdown",
   "id": "b474910f-c568-4164-bf88-2a8e1e0aeb04",
   "metadata": {},
   "source": [
    "Mean increases with the high outlier and decreases with the low outlier. Consider a small dataset having 5 values. The values in ascending order are 10,13,13,17,100. From the above example, we can interpret that the mean is the only measure of central tendency affected by outliers."
   ]
  },
  {
   "cell_type": "markdown",
   "id": "51c118e4-a3b4-4d07-a1c5-80c430ca40d4",
   "metadata": {},
   "source": [
    "Mean: Outliers can pull the mean towards their extreme values. If there are outliers with large values, the mean can be inflated, while outliers with small values can lower the mean. Median: The median is less affected by outliers compared to the mean."
   ]
  },
  {
   "cell_type": "markdown",
   "id": "d489b93d-fce9-4e3c-858e-ac43b2446623",
   "metadata": {},
   "source": [
    "Mean is the measure of central tendency affected most by the outliers. Mean increases with the high outlier and decreases with the low outlier.                                                                           \n",
    "\n",
    "Consider a small dataset having 5 values. The values in ascending order are 10,13,13,17,100                                .\n",
    "\n",
    "In the above example, the mean will be 153/6 = 30.6                                                    \n",
    "\n",
    "The median will be 13                                                                                                     \n",
    "\n",
    "The mode will be 13                                                                                                 \n",
    "\n",
    "From the above example, we can interpret that the mean is the only measure of central tendency affected by outliers.           "
   ]
  },
  {
   "cell_type": "code",
   "execution_count": null,
   "id": "b47d9e32-dbe9-47ed-8da9-7f311a5bb075",
   "metadata": {},
   "outputs": [],
   "source": []
  }
 ],
 "metadata": {
  "kernelspec": {
   "display_name": "Python 3 (ipykernel)",
   "language": "python",
   "name": "python3"
  },
  "language_info": {
   "codemirror_mode": {
    "name": "ipython",
    "version": 3
   },
   "file_extension": ".py",
   "mimetype": "text/x-python",
   "name": "python",
   "nbconvert_exporter": "python",
   "pygments_lexer": "ipython3",
   "version": "3.10.8"
  }
 },
 "nbformat": 4,
 "nbformat_minor": 5
}
